{
 "cells": [
  {
   "cell_type": "markdown",
   "metadata": {
    "tags": []
   },
   "source": [
    "# Lab 0 (Week 2)"
   ]
  },
  {
   "cell_type": "markdown",
   "metadata": {
    "id": "-pCrNqkTwODk"
   },
   "source": [
    "Students should be required to spend ~an hour of their own time to work through this tutorial before coming to the first/second discussion, so they can actively ask questions and engage in class."
   ]
  },
  {
   "cell_type": "markdown",
   "metadata": {
    "id": "rOkHlC_apGvo"
   },
   "source": [
    "# 0. Hello World\n",
    "\n",
    "Official Python 3 tutorial: https://docs.python.org/3/tutorial/\n",
    "\n",
    "Jupyter Notebook provides an interactive Python session, where you can run your code progressively, cell by cell. The run-time state, meaning all variable values, function definitions, etc., is automatically saved after you run each cell in a session.\n",
    "\n",
    "Click on the play button on the cell below to execute its content. The stdout content (whatever you \"print()\") will be displayed belowed the cell"
   ]
  },
  {
   "cell_type": "code",
   "execution_count": 1,
   "metadata": {
    "colab": {
     "base_uri": "https://localhost:8080/"
    },
    "id": "BRcGNWOepGhm",
    "outputId": "3fb10701-fff0-4fc6-c57e-f3a46b1f81fe",
    "tags": []
   },
   "outputs": [
    {
     "name": "stdout",
     "output_type": "stream",
     "text": [
      "Hello BIOE 488 students!\n"
     ]
    }
   ],
   "source": [
    "\n",
    "print(\"Hello BIOE 488 students!\")"
   ]
  },
  {
   "cell_type": "markdown",
   "metadata": {},
   "source": [
    "Now, imagine you have a variable \n",
    "\n",
    "\n",
    "```python\n",
    "department = 'BIOE'\n",
    "course_id = 488\n",
    "```\n",
    "**Task:** How can you achieve the same print line above using F-strings? \n",
    "\n",
    "Try on the cell below...\n",
    "\n",
    "<details>\n",
    "<summary> See solution</summary>\n",
    "\n",
    "```python\n",
    "department = 'BIOE'\n",
    "course_id = 488\n",
    "print(f' Hello {department} {course_id} students!')\n",
    "\n"
   ]
  },
  {
   "cell_type": "code",
   "execution_count": 2,
   "metadata": {
    "tags": []
   },
   "outputs": [
    {
     "name": "stdout",
     "output_type": "stream",
     "text": [
      " Hello BIOE 488 students!\n"
     ]
    }
   ],
   "source": [
    "department = 'BIOE'\n",
    "course_id = 488\n",
    "print(f' Hello {department} {course_id} students!')"
   ]
  },
  {
   "cell_type": "markdown",
   "metadata": {
    "id": "_fjfRvsmqiv7"
   },
   "source": [
    "---\n",
    "# 1. Basic Arithmetics in Python\n",
    "Equal sign \"=\" in Python as well as most other programming languages means to assign a value to a variable. Python interpreter assigns the value on the right hand side (rhs) of \"=\" to the variable on the left hand side (lhs) of it. In the example below, the first line \"a = 2\" assigns variable \"a\" the numerical value 2\n",
    "\n",
    "If rhs consists of arithmetic operations, logic operations, function calls or other calculations, Python interpreter cauculates the result before assigning it to the lhs.\n",
    "\n",
    "Explore the calculations below to find out the usage of each operator.\n",
    "\n",
    "\n",
    "\n"
   ]
  },
  {
   "cell_type": "code",
   "execution_count": 3,
   "metadata": {
    "colab": {
     "base_uri": "https://localhost:8080/"
    },
    "id": "lZth3CYkpuJk",
    "outputId": "77ff1eb6-67cd-4ca7-dfb9-813af2a5ac2d",
    "tags": []
   },
   "outputs": [
    {
     "name": "stdout",
     "output_type": "stream",
     "text": [
      "2 3 5 9 10 3.3333333333333335 3 1 5.0\n"
     ]
    }
   ],
   "source": [
    "a = 2\n",
    "b = 3\n",
    "c = a + b\n",
    "j = a * b\n",
    "d = b ** a\n",
    "e = 10\n",
    "f = e / b\n",
    "g = e // b\n",
    "h = g - a\n",
    "i = (50 - 5*6) / 4\n",
    "p = 17 % 3\n",
    "\n",
    "print(a, b, c, d, e, f, g, h, i)"
   ]
  },
  {
   "cell_type": "markdown",
   "metadata": {
    "id": "nTlmhVbpwA39"
   },
   "source": [
    "Notice that some variables have a decimal part (even if it's 0). These variables are \"float\" type, while others are \"integer\" type. We will cover this further in ###."
   ]
  },
  {
   "cell_type": "markdown",
   "metadata": {
    "id": "VehWT0C2HPST"
   },
   "source": [
    "The expression on RHS must only contain variables/functions/names that are already defined. The cell below will generate an \"undefined name\" error.\n"
   ]
  },
  {
   "cell_type": "code",
   "execution_count": 4,
   "metadata": {
    "colab": {
     "base_uri": "https://localhost:8080/",
     "height": 165
    },
    "id": "IWu2piXEx3hD",
    "outputId": "803ad372-bab9-4f8a-8c59-87d290e35f7d",
    "tags": []
   },
   "outputs": [
    {
     "ename": "NameError",
     "evalue": "name 'one' is not defined",
     "output_type": "error",
     "traceback": [
      "\u001b[0;31m---------------------------------------------------------------------------\u001b[0m",
      "\u001b[0;31mNameError\u001b[0m                                 Traceback (most recent call last)",
      "Cell \u001b[0;32mIn[4], line 1\u001b[0m\n\u001b[0;32m----> 1\u001b[0m t \u001b[38;5;241m=\u001b[39m \u001b[43mone\u001b[49m \u001b[38;5;241m+\u001b[39m \u001b[38;5;241m2\u001b[39m\n",
      "\u001b[0;31mNameError\u001b[0m: name 'one' is not defined"
     ]
    }
   ],
   "source": [
    "t = one + 2"
   ]
  },
  {
   "cell_type": "markdown",
   "metadata": {
    "id": "3t_uCiOGIVrd"
   },
   "source": [
    "Because \"=\" is \"assignment operator, statements like \"a = a + 1\" is totally valid in Python. It computes the result of the RHS expression \"a + 1\" and then assigns it back to LHS variable \"a\". What should the result be?\n",
    "\n",
    "Such arithmetic operations can often be abbreviated as \n",
    "\n",
    "+=\n",
    "\n",
    "\\-=\n",
    "\n",
    "*=\n",
    "\n",
    "/=\n",
    "\n",
    "...\n",
    "\n",
    "See examples below."
   ]
  },
  {
   "cell_type": "code",
   "execution_count": 5,
   "metadata": {
    "colab": {
     "base_uri": "https://localhost:8080/"
    },
    "id": "_Op1Xcb0xVe4",
    "outputId": "0c14d95e-70aa-4b53-dc97-ceab0ea28579",
    "tags": []
   },
   "outputs": [
    {
     "name": "stdout",
     "output_type": "stream",
     "text": [
      "3\n",
      "4\n",
      "8\n",
      "4.0\n"
     ]
    }
   ],
   "source": [
    "a = a + 1\n",
    "print(a)\n",
    "a += 1\n",
    "print(a)\n",
    "a *= 2\n",
    "print(a)\n",
    "a /= 2\n",
    "print(a)"
   ]
  },
  {
   "cell_type": "markdown",
   "metadata": {
    "id": "GwPAHEG-vn2P"
   },
   "source": [
    "--- \n",
    "# 1.75 Data structures and Variables\n",
    "\n",
    "Every variable has a data type. Use the built-in \"type()\" function to find out the type of a variable like below:"
   ]
  },
  {
   "cell_type": "code",
   "execution_count": 6,
   "metadata": {
    "colab": {
     "base_uri": "https://localhost:8080/"
    },
    "id": "8y-RotgWOvMT",
    "outputId": "122a2ffb-a2aa-4b23-e31c-34c3ac3eb1b4",
    "tags": []
   },
   "outputs": [
    {
     "name": "stdout",
     "output_type": "stream",
     "text": [
      "3.2 <class 'float'>\n",
      "-2 <class 'int'>\n",
      "hello <class 'str'>\n"
     ]
    }
   ],
   "source": [
    "a = 3.2\n",
    "print(a, type(a))\n",
    "b = -2\n",
    "print(b, type(b))\n",
    "c = \"hello\"\n",
    "print(c, type(c))"
   ]
  },
  {
   "cell_type": "markdown",
   "metadata": {
    "id": "x6jCFSgKPR2n"
   },
   "source": [
    "Python 3 allows arithmetic operations between different datatypes."
   ]
  },
  {
   "cell_type": "code",
   "execution_count": 7,
   "metadata": {
    "colab": {
     "base_uri": "https://localhost:8080/"
    },
    "id": "kvkK3N_z45VV",
    "outputId": "c6044b05-cf8c-43b6-9bd1-c912982014f2",
    "tags": []
   },
   "outputs": [
    {
     "name": "stdout",
     "output_type": "stream",
     "text": [
      "-6.4 <class 'float'>\n"
     ]
    }
   ],
   "source": [
    "d = a * b\n",
    "print(d, type(d))"
   ]
  },
  {
   "cell_type": "markdown",
   "metadata": {
    "id": "w7L3w0Bt44vI"
   },
   "source": [
    "Lists are mutable objects. Explore the common list operations below:"
   ]
  },
  {
   "cell_type": "code",
   "execution_count": 9,
   "metadata": {
    "id": "g7ctVSHZ5UPy",
    "tags": []
   },
   "outputs": [],
   "source": [
    "my_color = \"red\"\n",
    "\n",
    "# creating lists\n",
    "list_a = [1, 2, \"Adam\", my_color, \"banana\"]\n",
    "list_b = [0, list_a]\n",
    "list_c = []"
   ]
  },
  {
   "cell_type": "code",
   "execution_count": 10,
   "metadata": {
    "colab": {
     "base_uri": "https://localhost:8080/"
    },
    "id": "U_oDKy2B5hIX",
    "outputId": "a460c0a6-359a-450f-f4b3-a330398fb648",
    "tags": []
   },
   "outputs": [
    {
     "name": "stdout",
     "output_type": "stream",
     "text": [
      "[1, 2, 'Adam', 'red', 'banana']\n",
      "[0, [1, 2, 'Adam', 'red', 'banana']]\n",
      "[]\n"
     ]
    }
   ],
   "source": [
    "print(list_a)\n",
    "print(list_b)\n",
    "print(list_c)"
   ]
  },
  {
   "cell_type": "code",
   "execution_count": 11,
   "metadata": {
    "colab": {
     "base_uri": "https://localhost:8080/"
    },
    "id": "B5zW4Iu787Ip",
    "outputId": "05514884-1504-4c28-fcc6-aa1fbeb0b20d",
    "tags": []
   },
   "outputs": [
    {
     "name": "stdout",
     "output_type": "stream",
     "text": [
      "[0, [1, 2, 'Adam', 'red', 'banana'], 'new element']\n",
      "['another element', 0, [1, 2, 'Adam', 'red', 'banana'], 'new element']\n",
      "True\n",
      "False\n"
     ]
    }
   ],
   "source": [
    "# appending new element to list\n",
    "list_b.append(\"new element\")\n",
    "print(list_b)\n",
    "\n",
    "# insert to arbitrary location in a list (change 0 to a different index?)\n",
    "list_b.insert(0, \"another element\")\n",
    "print(list_b)\n",
    "\n",
    "# check if element exists in list\n",
    "print(0 in list_b)\n",
    "print(9 in list_b)"
   ]
  },
  {
   "cell_type": "code",
   "execution_count": 12,
   "metadata": {
    "colab": {
     "base_uri": "https://localhost:8080/"
    },
    "id": "l4yK7g2v5o0B",
    "outputId": "25c1612a-f1aa-4045-d693-5621526f7689",
    "tags": []
   },
   "outputs": [
    {
     "name": "stdout",
     "output_type": "stream",
     "text": [
      "1\n",
      "2\n",
      "Adam\n",
      "red\n",
      "banana\n",
      "[2, 'Adam']\n"
     ]
    }
   ],
   "source": [
    "# iterate over all elements in a list\n",
    "for item in list_a:\n",
    "  print(item)\n",
    "\n",
    "# select a section of a list, described by the starting and ending indicies\n",
    "for item in list_a[1:3]:\n",
    "  list_c.append(item)\n",
    "\n",
    "print(list_c)"
   ]
  },
  {
   "cell_type": "markdown",
   "metadata": {
    "id": "nPy9DhLI6G3Q"
   },
   "source": [
    "In the cell below, list_0 and list_1 are two __references__ of the same list. When you modify the underlying list through either reference, both references will be affected."
   ]
  },
  {
   "cell_type": "code",
   "execution_count": 13,
   "metadata": {
    "colab": {
     "base_uri": "https://localhost:8080/"
    },
    "id": "4evRU9QY58Na",
    "outputId": "0e85ca9d-0844-40c9-dd22-cc7d45743d69",
    "tags": []
   },
   "outputs": [
    {
     "name": "stdout",
     "output_type": "stream",
     "text": [
      "[0, 1, 2, 3]\n",
      "[0, 1, 2, 3]\n",
      "[0, 1, 2, 3, 5]\n",
      "[0, 1, 2, 3, 5]\n"
     ]
    }
   ],
   "source": [
    "list_0 = [0, 1, 2, 3]\n",
    "list_1 = list_0\n",
    "\n",
    "print(list_0)\n",
    "print(list_1)\n",
    "\n",
    "list_0.append(5)\n",
    "\n",
    "print(list_0)\n",
    "print(list_1)\n"
   ]
  },
  {
   "cell_type": "markdown",
   "metadata": {
    "id": "XY9xwXKD6l3g"
   },
   "source": [
    "---\n",
    "### Dictionaries\n",
    "Dictionaries are key-value containers that provides __fast__ look-up by key. Explore the common dictionary operations below:"
   ]
  },
  {
   "cell_type": "code",
   "execution_count": 14,
   "metadata": {
    "colab": {
     "base_uri": "https://localhost:8080/"
    },
    "id": "nEAp0QNt6k9A",
    "outputId": "2c7a8832-9d2b-4e31-98ac-2fd496879463",
    "tags": []
   },
   "outputs": [
    {
     "name": "stdout",
     "output_type": "stream",
     "text": [
      "3\n",
      "{'Adam': 321654987, 'Bob': 789456123, 'Charlie': 147258369}\n",
      "321654987\n",
      "{'Bob': 789456123, 'Charlie': 147258369, 'Azis': 111111111, 0: 1}\n",
      "The phone number of Bob is 789456123\n",
      "The phone number of Charlie is 147258369\n",
      "The phone number of Azis is 111111111\n",
      "The phone number of 0 is 1\n",
      "Bob is in the phonebook\n",
      "{'Bob': 789456123, 'Charlie': 1, 'Azis': 111111111, 0: 1}\n"
     ]
    }
   ],
   "source": [
    "# creating a dictionary\n",
    "phonebook = {\"Adam\": 321654987, \"Bob\": 789456123, \"Charlie\": 147258369}\n",
    "print(len(phonebook))\n",
    "print(phonebook)\n",
    "\n",
    "# looking up a key\n",
    "print(phonebook[\"Adam\"])\n",
    "\n",
    "my_name = \"Azis\"\n",
    "my_number = 111111111\n",
    "\n",
    "# creating a new entry with variables\n",
    "phonebook[my_name] = my_number\n",
    "phonebook[0] = 1\n",
    "\n",
    "# deleting an entry\n",
    "del phonebook[\"Adam\"]\n",
    "\n",
    "print(phonebook)\n",
    "\n",
    "# iterate over all entries\n",
    "for name, number in phonebook.items():\n",
    "  print(\"The phone number of {} is {}\".format(name, number))\n",
    "\n",
    "# check if key exists in dictionary\n",
    "if \"Bob\" in phonebook:\n",
    "  print(\"Bob is in the phonebook\")\n",
    "\n",
    "# modifying the value of a key\n",
    "phonebook[\"Charlie\"] = 1\n",
    "\n",
    "\n",
    "print(phonebook)"
   ]
  },
  {
   "cell_type": "markdown",
   "metadata": {},
   "source": [
    "---\n",
    "**Task:** Create a dictionary named book with the following keys: `title`, `author`, and `year_published`. \n",
    "\n",
    "Use the cell below\n",
    "\n",
    "<details>\n",
    "<summary>See solution</summary>\n",
    "\n",
    "```python\n",
    "book = {\n",
    "    \"title\": \"To Kill a Mockingbird\",\n",
    "    \"author\": \"Harper Lee\",\n",
    "    \"year_published\": 1960\n",
    "}\n",
    "print(book)\n"
   ]
  },
  {
   "cell_type": "code",
   "execution_count": 15,
   "metadata": {
    "tags": []
   },
   "outputs": [
    {
     "name": "stdout",
     "output_type": "stream",
     "text": [
      "{'title': 'To Kill a Mockingbird', 'author': 'Harper Lee', 'year_published': 1960}\n"
     ]
    }
   ],
   "source": [
    "book = {\n",
    "    \"title\": \"To Kill a Mockingbird\", \"author\": \"Harper Lee\", \"year_published\": 1960\n",
    "}\n",
    "print(book)# Use this cell"
   ]
  },
  {
   "cell_type": "markdown",
   "metadata": {
    "tags": []
   },
   "source": [
    "**Task:** Using the book dictionary you created earlier, change the `year_published` to 1961 and add a new key-value pair: `genre` with a value of \"Fiction\".\n",
    "\n",
    "Use the cell below"
   ]
  },
  {
   "cell_type": "code",
   "execution_count": 19,
   "metadata": {
    "tags": []
   },
   "outputs": [
    {
     "name": "stdout",
     "output_type": "stream",
     "text": [
      "{'title': 'To Kill a Mockingbird', 'author': 'Harper Lee', 'year_published': 1961, 'genre': 'Fiction'}\n"
     ]
    }
   ],
   "source": [
    "book = {\n",
    "    \"title\": \"To Kill a Mockingbird\", \"author\": \"Harper Lee\", \"year_published\": 1961, \"genre\": \"Fiction\"\n",
    "} \n",
    "print(book)\n"
   ]
  },
  {
   "cell_type": "markdown",
   "metadata": {
    "id": "2SypphByvBgb"
   },
   "source": [
    "---\n",
    "# 1.5. Control Flow Statements\n",
    "\n",
    "The interpreter normally executes code line by line, however, we can use control flow statements to manage the control flow.\n",
    "\n",
    "for, while and if statements\n",
    "\n",
    "Logic \n",
    "break, continue, else elif\n",
    "range() function\n",
    "- Indentations in Python"
   ]
  },
  {
   "cell_type": "markdown",
   "metadata": {
    "id": "Ujt-yVHWNso5"
   },
   "source": [
    "For loops\n",
    "\n",
    "a \"for\" loop repeats execution of the code in its scope over the items of a given sequence."
   ]
  },
  {
   "cell_type": "code",
   "execution_count": 20,
   "metadata": {
    "colab": {
     "base_uri": "https://localhost:8080/"
    },
    "id": "ERKy1RiTxRfV",
    "outputId": "430dbc74-90be-4cd6-b091-d7f136fa1689",
    "tags": []
   },
   "outputs": [
    {
     "name": "stdout",
     "output_type": "stream",
     "text": [
      "I love eating apples\n",
      "I love eating oranges\n",
      "I love eating bananas\n"
     ]
    }
   ],
   "source": [
    "fruits = [\"apples\", \"oranges\", \"bananas\"]\n",
    "for fruit in fruits:\n",
    "  print(\"I love eating {}\".format(fruit))"
   ]
  },
  {
   "cell_type": "markdown",
   "metadata": {
    "id": "I8SjbqvovnuM"
   },
   "source": [
    "__continue__ statement skips the execution to the next iteration in a loop.\n",
    "See the cell below for example"
   ]
  },
  {
   "cell_type": "code",
   "execution_count": 21,
   "metadata": {
    "colab": {
     "base_uri": "https://localhost:8080/"
    },
    "id": "2CvTlPoMuwAG",
    "outputId": "7426c7be-fde0-4fbc-d910-eaf4a3bc4338",
    "tags": []
   },
   "outputs": [
    {
     "name": "stdout",
     "output_type": "stream",
     "text": [
      "1\n",
      "2\n",
      "3\n",
      "5\n"
     ]
    }
   ],
   "source": [
    "my_color = \"red\"\n",
    "\n",
    "# creating lists\n",
    "list_a = [1, 2, \"Adam\", my_color, 3, \"banana\", 5]\n",
    "\n",
    "for element in list_a:\n",
    "  if type(element) == type(\" \"):\n",
    "    continue\n",
    "  print(element)"
   ]
  },
  {
   "cell_type": "markdown",
   "metadata": {
    "id": "Dw17o97ew6rn"
   },
   "source": [
    "__break__ terminates the execution of a loop and skip out of the loop"
   ]
  },
  {
   "cell_type": "code",
   "execution_count": 22,
   "metadata": {
    "colab": {
     "base_uri": "https://localhost:8080/"
    },
    "id": "4EwM-LjXw5Ia",
    "outputId": "aab83aff-7e3f-4fa5-c82e-673deb4cdbb7",
    "tags": []
   },
   "outputs": [
    {
     "name": "stdout",
     "output_type": "stream",
     "text": [
      "1\n",
      "1\n",
      "2\n",
      "2\n",
      "Adam\n"
     ]
    }
   ],
   "source": [
    "my_color = \"red\"\n",
    "\n",
    "# creating lists\n",
    "list_a = [1, 2, \"Adam\", my_color, 3, \"banana\", 5]\n",
    "for element in list_a:\n",
    "  print(element)\n",
    "  if type(element) == type(\" \"):\n",
    "    break\n",
    "  print(element)"
   ]
  },
  {
   "cell_type": "code",
   "execution_count": 23,
   "metadata": {
    "colab": {
     "base_uri": "https://localhost:8080/"
    },
    "id": "D_Sg6oRrHap9",
    "outputId": "9be4864e-35ee-4809-9ca8-3fb2bdd186ad",
    "tags": []
   },
   "outputs": [
    {
     "name": "stdout",
     "output_type": "stream",
     "text": [
      "0\n",
      "1\n",
      "2\n",
      "3\n",
      "4\n",
      "10\n",
      "8\n",
      "6\n",
      "4\n",
      "2\n"
     ]
    }
   ],
   "source": [
    "## Example\n",
    "for i in range(5):\n",
    "  print(i)\n",
    "## Reverse\n",
    "for j in range(10, 0, -2):\n",
    "  print(j)"
   ]
  },
  {
   "cell_type": "markdown",
   "metadata": {
    "tags": []
   },
   "source": [
    "---\n",
    "**Task**:  Given the dictionary, print the each student name and their pass/fail in the following format (example):\n",
    "The criteria for pass/failed is 50%. Bonus: update the dictionary to reflect the pass/fail with the key `status`\n",
    "\n",
    "John has passed the class\n",
    "\n",
    "```python\n",
    "students = {'names': ['John', 'Audrey', 'Emma', 'Bob', 'Dan'], 'grades': [70, 45, 96, 80, 24]}\n"
   ]
  },
  {
   "cell_type": "code",
   "execution_count": null,
   "metadata": {
    "tags": []
   },
   "outputs": [],
   "source": [
    "students = {'names': ['John', 'Audrey', 'Emma', 'Bob', 'Dan'], 'grades': [70, 45, 96, 80, 24]}\n",
    "if grades >= 50:\n",
    "    print(f\" {students:names} pass\")\n",
    "else:\n",
    "    print(f\" {students:names} fail\")\n",
    "    "
   ]
  },
  {
   "cell_type": "code",
   "execution_count": null,
   "metadata": {
    "tags": []
   },
   "outputs": [],
   "source": [
    "## "
   ]
  },
  {
   "cell_type": "markdown",
   "metadata": {
    "id": "6kPXgdVPrN6u"
   },
   "source": [
    "--- \n",
    "# 2. Function Calls\n",
    "- Defining functions\n"
   ]
  },
  {
   "cell_type": "code",
   "execution_count": 27,
   "metadata": {
    "colab": {
     "base_uri": "https://localhost:8080/"
    },
    "id": "bN-oif_ctG0R",
    "outputId": "883395da-1e5f-435b-9cff-6a1d49dfb459",
    "tags": []
   },
   "outputs": [],
   "source": [
    "def find_second_largest_element_in_list(mylist):\n",
    "  largest = -999999999\n",
    "  second_largest = -999999999\n",
    "  for element in mylist:\n",
    "    if element > largest:\n",
    "      second_largest = largest\n",
    "      largest = element\n",
    "    elif element > second_largest:\n",
    "      second_largest = element\n",
    "\n",
    "  return second_largest"
   ]
  },
  {
   "cell_type": "markdown",
   "metadata": {
    "id": "1dfubh730rUQ"
   },
   "source": [
    "When calling a function, your must provide all __required__ arguments. Required arguments are those that do not have a default value. Im the example below, argument \"pi\" has a default value of 3.14 The benefit is that the user of the function can optionally provide the value of pi with higher precision"
   ]
  },
  {
   "cell_type": "code",
   "execution_count": 28,
   "metadata": {
    "id": "_WB9IvzM1NrP",
    "tags": []
   },
   "outputs": [],
   "source": [
    "def get_area_and_circumference(radius, pi = 3.14):\n",
    "  area = pi * radius * radius\n",
    "  circumference = 2 * pi * radius\n",
    "\n",
    "  return area, circumference"
   ]
  },
  {
   "cell_type": "code",
   "execution_count": 29,
   "metadata": {
    "colab": {
     "base_uri": "https://localhost:8080/"
    },
    "id": "WafE6bea1kQK",
    "outputId": "32253637-0ab4-4e78-d8ca-844bbcdeeb87",
    "tags": []
   },
   "outputs": [
    {
     "name": "stdout",
     "output_type": "stream",
     "text": [
      "The area and circumference of a circle of radius 5 are 78.5 and 31.400000000000002\n",
      "The area and circumference of a circle of radius 5 are 78.5398163397425 and 31.415926535897\n"
     ]
    }
   ],
   "source": [
    "r = 5\n",
    "a, c = get_area_and_circumference(r)\n",
    "print(\"The area and circumference of a circle of radius {} are {} and {}\".format(r, a, c))\n",
    "\n",
    "a, c = get_area_and_circumference(r, 3.1415926535897)\n",
    "print(\"The area and circumference of a circle of radius {} are {} and {}\".format(r, a, c))"
   ]
  },
  {
   "cell_type": "markdown",
   "metadata": {},
   "source": [
    "# 3. Python Classes\n",
    "In Python, classes are used for object-oriented programming. A class is a blueprint for creating objects, and it encapsulates data for the object and methods to manipulate that data."
   ]
  },
  {
   "cell_type": "code",
   "execution_count": 30,
   "metadata": {
    "tags": []
   },
   "outputs": [],
   "source": [
    "class Dog:\n",
    "    def __init__(self, name, age):\n",
    "        self.name = name\n",
    "        self.age = age"
   ]
  },
  {
   "cell_type": "code",
   "execution_count": 31,
   "metadata": {
    "tags": []
   },
   "outputs": [],
   "source": [
    "buddy = Dog(\"Buddy\", 5)"
   ]
  },
  {
   "cell_type": "markdown",
   "metadata": {},
   "source": [
    "You can extend the `Dog` class by adding a method `bark` that prints \"Woof!\" when called."
   ]
  },
  {
   "cell_type": "code",
   "execution_count": 32,
   "metadata": {
    "tags": []
   },
   "outputs": [],
   "source": [
    "class Dog:\n",
    "    def __init__(self, name, age):\n",
    "        self.name = name\n",
    "        self.age = age\n",
    "    \n",
    "    def bark(self):\n",
    "        print(\"Woof!\")"
   ]
  },
  {
   "cell_type": "code",
   "execution_count": 33,
   "metadata": {
    "tags": []
   },
   "outputs": [],
   "source": [
    "buddy = Dog(\"Buddy\", 5)"
   ]
  },
  {
   "cell_type": "code",
   "execution_count": 34,
   "metadata": {
    "tags": []
   },
   "outputs": [
    {
     "name": "stdout",
     "output_type": "stream",
     "text": [
      "Buddy\n"
     ]
    }
   ],
   "source": [
    "print(buddy.name)"
   ]
  },
  {
   "cell_type": "code",
   "execution_count": 35,
   "metadata": {
    "tags": []
   },
   "outputs": [
    {
     "name": "stdout",
     "output_type": "stream",
     "text": [
      "Woof!\n"
     ]
    }
   ],
   "source": [
    "buddy.bark()"
   ]
  },
  {
   "cell_type": "markdown",
   "metadata": {},
   "source": [
    "---\n",
    "Overloading operators\n",
    "We can define a class named Vector that represents a 2D vector and we can implement addition (+) and subtraction (-) for two vector objects."
   ]
  },
  {
   "cell_type": "code",
   "execution_count": 36,
   "metadata": {
    "tags": []
   },
   "outputs": [],
   "source": [
    "class Vector:\n",
    "    def __init__(self, x, y):\n",
    "        self.x = x\n",
    "        self.y = y\n",
    "\n",
    "    def __str__(self):\n",
    "        return f\"({self.x}, {self.y})\""
   ]
  },
  {
   "cell_type": "code",
   "execution_count": 37,
   "metadata": {
    "tags": []
   },
   "outputs": [],
   "source": [
    "# example\n",
    "a = Vector(10,3)\n",
    "b = Vector(1,2)"
   ]
  },
  {
   "cell_type": "code",
   "execution_count": 38,
   "metadata": {
    "tags": []
   },
   "outputs": [
    {
     "name": "stdout",
     "output_type": "stream",
     "text": [
      "(10, 3)\n",
      "(1, 2)\n"
     ]
    },
    {
     "ename": "TypeError",
     "evalue": "unsupported operand type(s) for +: 'Vector' and 'Vector'",
     "output_type": "error",
     "traceback": [
      "\u001b[0;31m---------------------------------------------------------------------------\u001b[0m",
      "\u001b[0;31mTypeError\u001b[0m                                 Traceback (most recent call last)",
      "Cell \u001b[0;32mIn[38], line 3\u001b[0m\n\u001b[1;32m      1\u001b[0m \u001b[38;5;28mprint\u001b[39m(a)\n\u001b[1;32m      2\u001b[0m \u001b[38;5;28mprint\u001b[39m(b)\n\u001b[0;32m----> 3\u001b[0m c \u001b[38;5;241m=\u001b[39m \u001b[43ma\u001b[49m\u001b[38;5;241;43m+\u001b[39;49m\u001b[43mb\u001b[49m\n",
      "\u001b[0;31mTypeError\u001b[0m: unsupported operand type(s) for +: 'Vector' and 'Vector'"
     ]
    }
   ],
   "source": [
    "print(a)\n",
    "print(b)\n",
    "c = a+b"
   ]
  },
  {
   "cell_type": "markdown",
   "metadata": {},
   "source": [
    "Note that the operand is not supported, we can define it ourselves"
   ]
  },
  {
   "cell_type": "code",
   "execution_count": 39,
   "metadata": {
    "tags": []
   },
   "outputs": [],
   "source": [
    "class Vector:\n",
    "    def __init__(self, x, y):\n",
    "        self.x = x\n",
    "        self.y = y\n",
    "    \n",
    "    # we define the addition between 2 vectors\n",
    "    def __add__(self, other):\n",
    "        return Vector(self.x + other.x, self.y + other.y)\n",
    "\n",
    "    def __sub__(self, other):\n",
    "        return Vector(self.x - other.x, self.y - other.y)\n",
    "\n",
    "    def __str__(self):\n",
    "        return f\"({self.x}, {self.y})\""
   ]
  },
  {
   "cell_type": "code",
   "execution_count": 40,
   "metadata": {
    "tags": []
   },
   "outputs": [],
   "source": [
    "# example\n",
    "a = Vector(10,3)\n",
    "b = Vector(1,2)"
   ]
  },
  {
   "cell_type": "code",
   "execution_count": 41,
   "metadata": {
    "tags": []
   },
   "outputs": [
    {
     "name": "stdout",
     "output_type": "stream",
     "text": [
      "(10, 3)\n",
      "(1, 2)\n",
      "<class '__main__.Vector'>\n",
      "(11, 5)\n"
     ]
    }
   ],
   "source": [
    "print(a)\n",
    "print(b)\n",
    "c = a+b\n",
    "print(type(c)) ## c is also a Vector\n",
    "print(c)"
   ]
  },
  {
   "cell_type": "markdown",
   "metadata": {
    "id": "qea_MNRg2G4r"
   },
   "source": [
    "--- \n",
    "## Packages\n",
    "Python 3 is known for its rich open-source library of packages. You can use the packages by first installing them with pip, and then importing them in your code:"
   ]
  },
  {
   "cell_type": "code",
   "execution_count": 67,
   "metadata": {
    "colab": {
     "base_uri": "https://localhost:8080/"
    },
    "id": "qMDjSM0LtH8l",
    "outputId": "18dc5536-7734-4496-8dad-b55ff2d1187d",
    "tags": []
   },
   "outputs": [
    {
     "name": "stdout",
     "output_type": "stream",
     "text": [
      "Requirement already satisfied: torch in /opt/conda/lib/python3.10/site-packages (2.0.1)\n",
      "Requirement already satisfied: filelock in /opt/conda/lib/python3.10/site-packages (from torch) (3.12.3)\n",
      "Requirement already satisfied: typing-extensions in /opt/conda/lib/python3.10/site-packages (from torch) (4.7.1)\n",
      "Requirement already satisfied: sympy in /opt/conda/lib/python3.10/site-packages (from torch) (1.11.1)\n",
      "Requirement already satisfied: networkx in /opt/conda/lib/python3.10/site-packages (from torch) (3.1)\n",
      "Requirement already satisfied: jinja2 in /opt/conda/lib/python3.10/site-packages (from torch) (3.1.2)\n",
      "Requirement already satisfied: nvidia-cuda-nvrtc-cu11==11.7.99 in /opt/conda/lib/python3.10/site-packages (from torch) (11.7.99)\n",
      "Requirement already satisfied: nvidia-cuda-runtime-cu11==11.7.99 in /opt/conda/lib/python3.10/site-packages (from torch) (11.7.99)\n",
      "Requirement already satisfied: nvidia-cuda-cupti-cu11==11.7.101 in /opt/conda/lib/python3.10/site-packages (from torch) (11.7.101)\n",
      "Requirement already satisfied: nvidia-cudnn-cu11==8.5.0.96 in /opt/conda/lib/python3.10/site-packages (from torch) (8.5.0.96)\n",
      "Requirement already satisfied: nvidia-cublas-cu11==11.10.3.66 in /opt/conda/lib/python3.10/site-packages (from torch) (11.10.3.66)\n",
      "Requirement already satisfied: nvidia-cufft-cu11==10.9.0.58 in /opt/conda/lib/python3.10/site-packages (from torch) (10.9.0.58)\n",
      "Requirement already satisfied: nvidia-curand-cu11==10.2.10.91 in /opt/conda/lib/python3.10/site-packages (from torch) (10.2.10.91)\n",
      "Requirement already satisfied: nvidia-cusolver-cu11==11.4.0.1 in /opt/conda/lib/python3.10/site-packages (from torch) (11.4.0.1)\n",
      "Requirement already satisfied: nvidia-cusparse-cu11==11.7.4.91 in /opt/conda/lib/python3.10/site-packages (from torch) (11.7.4.91)\n",
      "Requirement already satisfied: nvidia-nccl-cu11==2.14.3 in /opt/conda/lib/python3.10/site-packages (from torch) (2.14.3)\n",
      "Requirement already satisfied: nvidia-nvtx-cu11==11.7.91 in /opt/conda/lib/python3.10/site-packages (from torch) (11.7.91)\n",
      "Requirement already satisfied: triton==2.0.0 in /opt/conda/lib/python3.10/site-packages (from torch) (2.0.0)\n",
      "Requirement already satisfied: setuptools in /opt/conda/lib/python3.10/site-packages (from nvidia-cublas-cu11==11.10.3.66->torch) (67.7.2)\n",
      "Requirement already satisfied: wheel in /opt/conda/lib/python3.10/site-packages (from nvidia-cublas-cu11==11.10.3.66->torch) (0.40.0)\n",
      "Requirement already satisfied: cmake in /opt/conda/lib/python3.10/site-packages (from triton==2.0.0->torch) (3.27.2)\n",
      "Requirement already satisfied: lit in /opt/conda/lib/python3.10/site-packages (from triton==2.0.0->torch) (16.0.6)\n",
      "Requirement already satisfied: MarkupSafe>=2.0 in /opt/conda/lib/python3.10/site-packages (from jinja2->torch) (2.1.2)\n",
      "Requirement already satisfied: mpmath>=0.19 in /opt/conda/lib/python3.10/site-packages (from sympy->torch) (1.3.0)\n"
     ]
    }
   ],
   "source": [
    "!pip3 install torch"
   ]
  },
  {
   "cell_type": "markdown",
   "metadata": {
    "id": "VpFkaqM02cNM"
   },
   "source": [
    "In the cell above, the exclamation mark tells Google Colab to execute the command as a shell command."
   ]
  },
  {
   "cell_type": "code",
   "execution_count": 68,
   "metadata": {
    "id": "UTxJSrsl2vcR",
    "tags": []
   },
   "outputs": [],
   "source": [
    "import torch"
   ]
  },
  {
   "cell_type": "code",
   "execution_count": 64,
   "metadata": {
    "colab": {
     "base_uri": "https://localhost:8080/"
    },
    "id": "0E1OMVe22wiw",
    "outputId": "f9ecb963-9150-4d20-d36c-0ec2753de742",
    "tags": []
   },
   "outputs": [
    {
     "name": "stdout",
     "output_type": "stream",
     "text": [
      "2.0.1+cu117\n"
     ]
    }
   ],
   "source": [
    "print(torch.__version__)"
   ]
  },
  {
   "cell_type": "markdown",
   "metadata": {
    "id": "z2JVsKGBpIw4"
   },
   "source": [
    "# 4. Debugging \n",
    "- reading error messages\n",
    "- print() format string\n",
    "- stackoverflow\n",
    "- (*Bonus) Debuggers"
   ]
  },
  {
   "cell_type": "markdown",
   "metadata": {
    "id": "ojO6q3k63Qz1"
   },
   "source": [
    "Having errors/bugs in your code is normal; Debugging and testing are a huge part of developing a program. \n",
    "Python 3 interpreter can often provide helpful error message when there is an error. Can you fix the bugs in the cell below?"
   ]
  },
  {
   "cell_type": "code",
   "execution_count": 53,
   "metadata": {
    "id": "RsoESxN738Ul",
    "tags": []
   },
   "outputs": [],
   "source": [
    "def get_course_grade(letter_grade, num_credit_hours):\n",
    "  \n",
    "  grade_conversion_mapping = {\"A\": \"4.00\", \"B\":\"3.00\", \"C\":\"2.00\", \"D\":\"1.00\", \"F\": \"0.00\"}\n",
    "  adjustments_mapping = {\"+\":0.33, \"-\":-0.33}\n",
    "\n",
    "  base_grade = grade_conversion_mapping[letter_grade[0]]\n",
    "  if len(letter_grade) > 1:\n",
    "    grade_adjustment = adjustments_mapping[letter_grade[1]]\n",
    "  else:\n",
    "    grade_adjustment = 0\n",
    "  adjusted_grade = base_grade + grade_adjustment\n",
    "\n",
    "  return num_credit_hours * adjusted_grade\n"
   ]
  },
  {
   "cell_type": "code",
   "execution_count": 54,
   "metadata": {
    "colab": {
     "base_uri": "https://localhost:8080/",
     "height": 287
    },
    "id": "PVeZETT1MUsG",
    "outputId": "03e51e07-bcab-4e69-dd57-6641d70c055e",
    "tags": []
   },
   "outputs": [
    {
     "ename": "TypeError",
     "evalue": "can only concatenate str (not \"int\") to str",
     "output_type": "error",
     "traceback": [
      "\u001b[0;31m---------------------------------------------------------------------------\u001b[0m",
      "\u001b[0;31mTypeError\u001b[0m                                 Traceback (most recent call last)",
      "Cell \u001b[0;32mIn[54], line 1\u001b[0m\n\u001b[0;32m----> 1\u001b[0m \u001b[38;5;28mprint\u001b[39m(\u001b[43mget_course_grade\u001b[49m\u001b[43m(\u001b[49m\u001b[38;5;124;43m\"\u001b[39;49m\u001b[38;5;124;43mA\u001b[39;49m\u001b[38;5;124;43m\"\u001b[39;49m\u001b[43m,\u001b[49m\u001b[43m \u001b[49m\u001b[38;5;241;43m3\u001b[39;49m\u001b[43m)\u001b[49m)\n",
      "Cell \u001b[0;32mIn[53], line 11\u001b[0m, in \u001b[0;36mget_course_grade\u001b[0;34m(letter_grade, num_credit_hours)\u001b[0m\n\u001b[1;32m      9\u001b[0m \u001b[38;5;28;01melse\u001b[39;00m:\n\u001b[1;32m     10\u001b[0m   grade_adjustment \u001b[38;5;241m=\u001b[39m \u001b[38;5;241m0\u001b[39m\n\u001b[0;32m---> 11\u001b[0m adjusted_grade \u001b[38;5;241m=\u001b[39m \u001b[43mbase_grade\u001b[49m\u001b[43m \u001b[49m\u001b[38;5;241;43m+\u001b[39;49m\u001b[43m \u001b[49m\u001b[43mgrade_adjustment\u001b[49m\n\u001b[1;32m     13\u001b[0m \u001b[38;5;28;01mreturn\u001b[39;00m num_credit_hours \u001b[38;5;241m*\u001b[39m adjusted_grade\n",
      "\u001b[0;31mTypeError\u001b[0m: can only concatenate str (not \"int\") to str"
     ]
    }
   ],
   "source": [
    "print(get_course_grade(\"A\", 3))"
   ]
  },
  {
   "cell_type": "markdown",
   "metadata": {
    "id": "_NwEzHn21Pop"
   },
   "source": [
    "When dealing with bugs in complex logic, i.e. nested loops and logic statements, it is often helpful to print out the state of execution (variable values) in each iteration or when certain conditions are met to help find the error. \n",
    "\n",
    "\"format string\" is a great way to organize your debug messages when many variable values are involved:"
   ]
  },
  {
   "cell_type": "code",
   "execution_count": 55,
   "metadata": {
    "colab": {
     "base_uri": "https://localhost:8080/"
    },
    "id": "8XdJ29xtpIBx",
    "outputId": "f2593f59-5f21-4041-86ce-9e20ed945105",
    "tags": []
   },
   "outputs": [
    {
     "name": "stdout",
     "output_type": "stream",
     "text": [
      "Hello BIOE 488 Students\n"
     ]
    }
   ],
   "source": [
    "course_department = \"BIOE\"\n",
    "course_number = 488\n",
    "print(\"Hello {} {} Students\".format(course_department, course_number))"
   ]
  },
  {
   "cell_type": "markdown",
   "metadata": {
    "id": "8byctA_TRiZu"
   },
   "source": [
    "With the help of the debug message, find and correct the bug in the cell below. Feel free to add your own debug messages!"
   ]
  },
  {
   "cell_type": "code",
   "execution_count": 56,
   "metadata": {
    "id": "iViHdf8tNer5",
    "tags": []
   },
   "outputs": [],
   "source": [
    "def is_fruit(item):\n",
    "  fruits = set({\"apple\", \"banana\", \"orange\"})\n",
    "  return item in fruits\n",
    "def get_sum_of_fruits(shopping_list):\n",
    "  running_sum = 0\n",
    "  for item, info in shopping_list.items():\n",
    "    if is_fruit(item):\n",
    "      running_sum += info[\"quantity\"] * info[\"unit_price\"]\n",
    "    else:\n",
    "      running_sum = 0\n",
    "    print(\"[DEBUG] current item: {}, current running sum: {}\".format(item, running_sum))\n",
    "  return running_sum"
   ]
  },
  {
   "cell_type": "code",
   "execution_count": 57,
   "metadata": {
    "colab": {
     "base_uri": "https://localhost:8080/"
    },
    "id": "oMTtz20OP6Ez",
    "outputId": "ab9abf93-93f0-4225-83c6-2f1a9569f97d",
    "tags": []
   },
   "outputs": [
    {
     "name": "stdout",
     "output_type": "stream",
     "text": [
      "[DEBUG] current item: apple, current running sum: 3.0\n",
      "[DEBUG] current item: milk, current running sum: 0\n",
      "[DEBUG] current item: wheat grass, current running sum: 0\n",
      "[DEBUG] current item: orange, current running sum: 10\n",
      "[DEBUG] current item: banana, current running sum: 12.5\n",
      "12.5\n"
     ]
    }
   ],
   "source": [
    "shopping_list = {\"apple\":{\"quantity\":2, \"unit_price\": 1.5}, \"milk\":{\"quantity\":28, \"unit_price\":3}, \"wheat grass\":{\"quantity\": 3, \"unit_price\": 2}, \"orange\":{\"unit_price\": 2, \"quantity\":5}, \"banana\":{\"quantity\":5, \"unit_price\":0.5}}\n",
    "\n",
    "print(get_sum_of_fruits(shopping_list))"
   ]
  },
  {
   "cell_type": "markdown",
   "metadata": {},
   "source": [
    "Is there a better way? Using logging "
   ]
  },
  {
   "cell_type": "code",
   "execution_count": 58,
   "metadata": {
    "tags": []
   },
   "outputs": [
    {
     "name": "stderr",
     "output_type": "stream",
     "text": [
      "WARNING:root:Watch out!\n"
     ]
    }
   ],
   "source": [
    "import logging\n",
    "logging.warning('Watch out!')  # will print a message to the console\n",
    "logging.info('I told you so') # will not print by default\n",
    "logging.debug('I am just the last in the chain')  # will not print anything"
   ]
  },
  {
   "cell_type": "code",
   "execution_count": 59,
   "metadata": {
    "tags": []
   },
   "outputs": [],
   "source": [
    "# change the logging level\n",
    "logging.getLogger().setLevel(logging.INFO)"
   ]
  },
  {
   "cell_type": "code",
   "execution_count": 60,
   "metadata": {
    "tags": []
   },
   "outputs": [
    {
     "name": "stderr",
     "output_type": "stream",
     "text": [
      "WARNING:root:Watch out!\n",
      "INFO:root:I am just an info\n"
     ]
    }
   ],
   "source": [
    "logging.warning('Watch out!')  # will print a message to the console\n",
    "logging.debug('I told you so') # will not print by default\n",
    "logging.info('I am just an info')  # will not print anything"
   ]
  },
  {
   "cell_type": "markdown",
   "metadata": {
    "id": "ci0JyYd5p8WA"
   },
   "source": [
    "# 6. Working with Frequently-Used Python Packages\n",
    "- matplotlib\n",
    "- pandas\n",
    "- numpy\n",
    "- ..."
   ]
  },
  {
   "cell_type": "markdown",
   "metadata": {
    "id": "kBbCc-zaTjJG"
   },
   "source": [
    "Numpy\n",
    "https://numpy.org/doc/stable/user/quickstart.html"
   ]
  },
  {
   "cell_type": "code",
   "execution_count": 47,
   "metadata": {
    "colab": {
     "base_uri": "https://localhost:8080/"
    },
    "id": "MX7oSdX19h9t",
    "outputId": "3a950d71-d724-4f53-9343-4341846aae15",
    "tags": []
   },
   "outputs": [
    {
     "name": "stdout",
     "output_type": "stream",
     "text": [
      "[[ 0  1  2  3  4]\n",
      " [ 5  6  7  8  9]\n",
      " [10 11 12 13 14]]\n",
      "(3, 5)\n",
      "2\n",
      "int64\n",
      "8\n",
      "15\n",
      "<class 'numpy.ndarray'>\n",
      "[6 7 8]\n",
      "<class 'numpy.ndarray'>\n"
     ]
    }
   ],
   "source": [
    "import numpy as np\n",
    "a = np.arange(15).reshape(3, 5)\n",
    "print(a)\n",
    "print(a.shape)\n",
    "print(a.ndim)\n",
    "print(a.dtype.name)\n",
    "print(a.itemsize)\n",
    "print(a.size)\n",
    "print(type(a))\n",
    "\n",
    "\n",
    "b = np.array([6, 7, 8])\n",
    "print(b)\n",
    "print(type(b))\n"
   ]
  },
  {
   "cell_type": "markdown",
   "metadata": {
    "id": "37I0Hn82T9Cn"
   },
   "source": [
    "Pandas \n",
    "https://pandas.pydata.org/pandas-docs/stable/user_guide/10min.html"
   ]
  },
  {
   "cell_type": "code",
   "execution_count": 48,
   "metadata": {
    "colab": {
     "base_uri": "https://localhost:8080/"
    },
    "id": "ZoJQ4k_CT83Q",
    "outputId": "6723713c-b10b-4a9c-bdf2-15851aeafc63",
    "tags": []
   },
   "outputs": [
    {
     "name": "stdout",
     "output_type": "stream",
     "text": [
      "0    1.0\n",
      "1    3.0\n",
      "2    5.0\n",
      "3    NaN\n",
      "4    6.0\n",
      "5    8.0\n",
      "dtype: float64\n",
      "      A          B    C  D      E    F\n",
      "0   1.0 2013-01-02  1.0  3  train  foo\n",
      "1   1.0 2013-01-02  1.0  3   test  foo\n",
      "2   1.0 2013-01-02  1.0  3  train  foo\n",
      "3   1.0 2013-01-02  1.0  3   test  foo\n",
      "4   1.0 2013-01-02  1.0  3  train  foo\n",
      "5   1.0 2013-01-02  1.0  3   test  foo\n",
      "6   1.0 2013-01-02  1.0  3  train  foo\n",
      "7   1.0 2013-01-02  1.0  3   test  foo\n",
      "8   1.0 2013-01-02  1.0  3  train  foo\n",
      "9   1.0 2013-01-02  1.0  3   test  foo\n",
      "10  1.0 2013-01-02  1.0  3  train  foo\n",
      "11  1.0 2013-01-02  1.0  3   test  foo\n",
      "12  1.0 2013-01-02  1.0  3  train  foo\n",
      "13  1.0 2013-01-02  1.0  3   test  foo\n",
      "14  1.0 2013-01-02  1.0  3  train  foo\n",
      "15  1.0 2013-01-02  1.0  3   test  foo\n",
      "16  1.0 2013-01-02  1.0  3  train  foo\n",
      "17  1.0 2013-01-02  1.0  3   test  foo\n",
      "18  1.0 2013-01-02  1.0  3  train  foo\n",
      "19  1.0 2013-01-02  1.0  3   test  foo\n",
      "     A          B    C  D      E    F\n",
      "0  1.0 2013-01-02  1.0  3  train  foo\n",
      "1  1.0 2013-01-02  1.0  3   test  foo\n",
      "2  1.0 2013-01-02  1.0  3  train  foo\n",
      "3  1.0 2013-01-02  1.0  3   test  foo\n",
      "4  1.0 2013-01-02  1.0  3  train  foo\n",
      "[[1.0 Timestamp('2013-01-02 00:00:00') 1.0 3 'train' 'foo']\n",
      " [1.0 Timestamp('2013-01-02 00:00:00') 1.0 3 'test' 'foo']\n",
      " [1.0 Timestamp('2013-01-02 00:00:00') 1.0 3 'train' 'foo']\n",
      " [1.0 Timestamp('2013-01-02 00:00:00') 1.0 3 'test' 'foo']\n",
      " [1.0 Timestamp('2013-01-02 00:00:00') 1.0 3 'train' 'foo']\n",
      " [1.0 Timestamp('2013-01-02 00:00:00') 1.0 3 'test' 'foo']\n",
      " [1.0 Timestamp('2013-01-02 00:00:00') 1.0 3 'train' 'foo']\n",
      " [1.0 Timestamp('2013-01-02 00:00:00') 1.0 3 'test' 'foo']\n",
      " [1.0 Timestamp('2013-01-02 00:00:00') 1.0 3 'train' 'foo']\n",
      " [1.0 Timestamp('2013-01-02 00:00:00') 1.0 3 'test' 'foo']\n",
      " [1.0 Timestamp('2013-01-02 00:00:00') 1.0 3 'train' 'foo']\n",
      " [1.0 Timestamp('2013-01-02 00:00:00') 1.0 3 'test' 'foo']\n",
      " [1.0 Timestamp('2013-01-02 00:00:00') 1.0 3 'train' 'foo']\n",
      " [1.0 Timestamp('2013-01-02 00:00:00') 1.0 3 'test' 'foo']\n",
      " [1.0 Timestamp('2013-01-02 00:00:00') 1.0 3 'train' 'foo']\n",
      " [1.0 Timestamp('2013-01-02 00:00:00') 1.0 3 'test' 'foo']\n",
      " [1.0 Timestamp('2013-01-02 00:00:00') 1.0 3 'train' 'foo']\n",
      " [1.0 Timestamp('2013-01-02 00:00:00') 1.0 3 'test' 'foo']\n",
      " [1.0 Timestamp('2013-01-02 00:00:00') 1.0 3 'train' 'foo']\n",
      " [1.0 Timestamp('2013-01-02 00:00:00') 1.0 3 'test' 'foo']]\n"
     ]
    }
   ],
   "source": [
    "import pandas as pd\n",
    "\n",
    "s = pd.Series([1, 3, 5, np.nan, 6, 8])\n",
    "df = pd.DataFrame(\n",
    "    {\n",
    "        \"A\": 1.0,\n",
    "        \"B\": pd.Timestamp(\"20130102\"),\n",
    "        \"C\": pd.Series(1, index=list(range(20)), dtype=\"float32\"),\n",
    "        \"D\": np.array([3] * 20, dtype=\"int32\"),\n",
    "        \"E\": pd.Categorical([\"test\" if i % 2 else \"train\" for i in range(20)]),\n",
    "        \"F\": \"foo\",\n",
    "    }\n",
    ")\n",
    "\n",
    "print(s)\n",
    "print(df)\n",
    "print(df.head())\n",
    "print(df.to_numpy())"
   ]
  },
  {
   "cell_type": "code",
   "execution_count": 49,
   "metadata": {
    "tags": []
   },
   "outputs": [
    {
     "data": {
      "text/html": [
       "<div>\n",
       "<style scoped>\n",
       "    .dataframe tbody tr th:only-of-type {\n",
       "        vertical-align: middle;\n",
       "    }\n",
       "\n",
       "    .dataframe tbody tr th {\n",
       "        vertical-align: top;\n",
       "    }\n",
       "\n",
       "    .dataframe thead th {\n",
       "        text-align: right;\n",
       "    }\n",
       "</style>\n",
       "<table border=\"1\" class=\"dataframe\">\n",
       "  <thead>\n",
       "    <tr style=\"text-align: right;\">\n",
       "      <th></th>\n",
       "      <th>A</th>\n",
       "      <th>B</th>\n",
       "      <th>C</th>\n",
       "      <th>D</th>\n",
       "      <th>E</th>\n",
       "      <th>F</th>\n",
       "    </tr>\n",
       "  </thead>\n",
       "  <tbody>\n",
       "    <tr>\n",
       "      <th>0</th>\n",
       "      <td>1.0</td>\n",
       "      <td>2013-01-02</td>\n",
       "      <td>1.0</td>\n",
       "      <td>3</td>\n",
       "      <td>train</td>\n",
       "      <td>foo</td>\n",
       "    </tr>\n",
       "    <tr>\n",
       "      <th>1</th>\n",
       "      <td>1.0</td>\n",
       "      <td>2013-01-02</td>\n",
       "      <td>1.0</td>\n",
       "      <td>3</td>\n",
       "      <td>test</td>\n",
       "      <td>foo</td>\n",
       "    </tr>\n",
       "    <tr>\n",
       "      <th>2</th>\n",
       "      <td>1.0</td>\n",
       "      <td>2013-01-02</td>\n",
       "      <td>1.0</td>\n",
       "      <td>3</td>\n",
       "      <td>train</td>\n",
       "      <td>foo</td>\n",
       "    </tr>\n",
       "    <tr>\n",
       "      <th>3</th>\n",
       "      <td>1.0</td>\n",
       "      <td>2013-01-02</td>\n",
       "      <td>1.0</td>\n",
       "      <td>3</td>\n",
       "      <td>test</td>\n",
       "      <td>foo</td>\n",
       "    </tr>\n",
       "    <tr>\n",
       "      <th>4</th>\n",
       "      <td>1.0</td>\n",
       "      <td>2013-01-02</td>\n",
       "      <td>1.0</td>\n",
       "      <td>3</td>\n",
       "      <td>train</td>\n",
       "      <td>foo</td>\n",
       "    </tr>\n",
       "    <tr>\n",
       "      <th>5</th>\n",
       "      <td>1.0</td>\n",
       "      <td>2013-01-02</td>\n",
       "      <td>1.0</td>\n",
       "      <td>3</td>\n",
       "      <td>test</td>\n",
       "      <td>foo</td>\n",
       "    </tr>\n",
       "    <tr>\n",
       "      <th>6</th>\n",
       "      <td>1.0</td>\n",
       "      <td>2013-01-02</td>\n",
       "      <td>1.0</td>\n",
       "      <td>3</td>\n",
       "      <td>train</td>\n",
       "      <td>foo</td>\n",
       "    </tr>\n",
       "    <tr>\n",
       "      <th>7</th>\n",
       "      <td>1.0</td>\n",
       "      <td>2013-01-02</td>\n",
       "      <td>1.0</td>\n",
       "      <td>3</td>\n",
       "      <td>test</td>\n",
       "      <td>foo</td>\n",
       "    </tr>\n",
       "    <tr>\n",
       "      <th>8</th>\n",
       "      <td>1.0</td>\n",
       "      <td>2013-01-02</td>\n",
       "      <td>1.0</td>\n",
       "      <td>3</td>\n",
       "      <td>train</td>\n",
       "      <td>foo</td>\n",
       "    </tr>\n",
       "    <tr>\n",
       "      <th>9</th>\n",
       "      <td>1.0</td>\n",
       "      <td>2013-01-02</td>\n",
       "      <td>1.0</td>\n",
       "      <td>3</td>\n",
       "      <td>test</td>\n",
       "      <td>foo</td>\n",
       "    </tr>\n",
       "    <tr>\n",
       "      <th>10</th>\n",
       "      <td>1.0</td>\n",
       "      <td>2013-01-02</td>\n",
       "      <td>1.0</td>\n",
       "      <td>3</td>\n",
       "      <td>train</td>\n",
       "      <td>foo</td>\n",
       "    </tr>\n",
       "    <tr>\n",
       "      <th>11</th>\n",
       "      <td>1.0</td>\n",
       "      <td>2013-01-02</td>\n",
       "      <td>1.0</td>\n",
       "      <td>3</td>\n",
       "      <td>test</td>\n",
       "      <td>foo</td>\n",
       "    </tr>\n",
       "    <tr>\n",
       "      <th>12</th>\n",
       "      <td>1.0</td>\n",
       "      <td>2013-01-02</td>\n",
       "      <td>1.0</td>\n",
       "      <td>3</td>\n",
       "      <td>train</td>\n",
       "      <td>foo</td>\n",
       "    </tr>\n",
       "    <tr>\n",
       "      <th>13</th>\n",
       "      <td>1.0</td>\n",
       "      <td>2013-01-02</td>\n",
       "      <td>1.0</td>\n",
       "      <td>3</td>\n",
       "      <td>test</td>\n",
       "      <td>foo</td>\n",
       "    </tr>\n",
       "    <tr>\n",
       "      <th>14</th>\n",
       "      <td>1.0</td>\n",
       "      <td>2013-01-02</td>\n",
       "      <td>1.0</td>\n",
       "      <td>3</td>\n",
       "      <td>train</td>\n",
       "      <td>foo</td>\n",
       "    </tr>\n",
       "    <tr>\n",
       "      <th>15</th>\n",
       "      <td>1.0</td>\n",
       "      <td>2013-01-02</td>\n",
       "      <td>1.0</td>\n",
       "      <td>3</td>\n",
       "      <td>test</td>\n",
       "      <td>foo</td>\n",
       "    </tr>\n",
       "    <tr>\n",
       "      <th>16</th>\n",
       "      <td>1.0</td>\n",
       "      <td>2013-01-02</td>\n",
       "      <td>1.0</td>\n",
       "      <td>3</td>\n",
       "      <td>train</td>\n",
       "      <td>foo</td>\n",
       "    </tr>\n",
       "    <tr>\n",
       "      <th>17</th>\n",
       "      <td>1.0</td>\n",
       "      <td>2013-01-02</td>\n",
       "      <td>1.0</td>\n",
       "      <td>3</td>\n",
       "      <td>test</td>\n",
       "      <td>foo</td>\n",
       "    </tr>\n",
       "    <tr>\n",
       "      <th>18</th>\n",
       "      <td>1.0</td>\n",
       "      <td>2013-01-02</td>\n",
       "      <td>1.0</td>\n",
       "      <td>3</td>\n",
       "      <td>train</td>\n",
       "      <td>foo</td>\n",
       "    </tr>\n",
       "    <tr>\n",
       "      <th>19</th>\n",
       "      <td>1.0</td>\n",
       "      <td>2013-01-02</td>\n",
       "      <td>1.0</td>\n",
       "      <td>3</td>\n",
       "      <td>test</td>\n",
       "      <td>foo</td>\n",
       "    </tr>\n",
       "  </tbody>\n",
       "</table>\n",
       "</div>"
      ],
      "text/plain": [
       "      A          B    C  D      E    F\n",
       "0   1.0 2013-01-02  1.0  3  train  foo\n",
       "1   1.0 2013-01-02  1.0  3   test  foo\n",
       "2   1.0 2013-01-02  1.0  3  train  foo\n",
       "3   1.0 2013-01-02  1.0  3   test  foo\n",
       "4   1.0 2013-01-02  1.0  3  train  foo\n",
       "5   1.0 2013-01-02  1.0  3   test  foo\n",
       "6   1.0 2013-01-02  1.0  3  train  foo\n",
       "7   1.0 2013-01-02  1.0  3   test  foo\n",
       "8   1.0 2013-01-02  1.0  3  train  foo\n",
       "9   1.0 2013-01-02  1.0  3   test  foo\n",
       "10  1.0 2013-01-02  1.0  3  train  foo\n",
       "11  1.0 2013-01-02  1.0  3   test  foo\n",
       "12  1.0 2013-01-02  1.0  3  train  foo\n",
       "13  1.0 2013-01-02  1.0  3   test  foo\n",
       "14  1.0 2013-01-02  1.0  3  train  foo\n",
       "15  1.0 2013-01-02  1.0  3   test  foo\n",
       "16  1.0 2013-01-02  1.0  3  train  foo\n",
       "17  1.0 2013-01-02  1.0  3   test  foo\n",
       "18  1.0 2013-01-02  1.0  3  train  foo\n",
       "19  1.0 2013-01-02  1.0  3   test  foo"
      ]
     },
     "execution_count": 49,
     "metadata": {},
     "output_type": "execute_result"
    }
   ],
   "source": [
    "df"
   ]
  },
  {
   "cell_type": "markdown",
   "metadata": {
    "id": "eAZPFxP8Umcb"
   },
   "source": [
    "Matplotlib https://matplotlib.org/stable/gallery/"
   ]
  },
  {
   "cell_type": "code",
   "execution_count": 50,
   "metadata": {
    "colab": {
     "base_uri": "https://localhost:8080/",
     "height": 502
    },
    "id": "PENvdYo8U9SD",
    "outputId": "b52dd941-33b3-4a98-9aa9-56542d41ad1e",
    "tags": []
   },
   "outputs": [
    {
     "name": "stdout",
     "output_type": "stream",
     "text": [
      "Requirement already satisfied: matplotlib in /opt/conda/lib/python3.10/site-packages (3.7.1)\n",
      "Collecting matplotlib\n",
      "  Downloading matplotlib-3.7.2-cp310-cp310-manylinux_2_17_x86_64.manylinux2014_x86_64.whl (11.6 MB)\n",
      "\u001b[2K     \u001b[90m━━━━━━━━━━━━━━━━━━━━━━━━━━━━━━━━━━━━━━━━\u001b[0m \u001b[32m11.6/11.6 MB\u001b[0m \u001b[31m33.2 MB/s\u001b[0m eta \u001b[36m0:00:00\u001b[0m00:01\u001b[0m00:01\u001b[0m\n",
      "\u001b[?25hRequirement already satisfied: contourpy>=1.0.1 in /opt/conda/lib/python3.10/site-packages (from matplotlib) (1.0.7)\n",
      "Requirement already satisfied: cycler>=0.10 in /opt/conda/lib/python3.10/site-packages (from matplotlib) (0.11.0)\n",
      "Requirement already satisfied: fonttools>=4.22.0 in /opt/conda/lib/python3.10/site-packages (from matplotlib) (4.39.4)\n",
      "Requirement already satisfied: kiwisolver>=1.0.1 in /opt/conda/lib/python3.10/site-packages (from matplotlib) (1.4.4)\n",
      "Requirement already satisfied: numpy>=1.20 in /opt/conda/lib/python3.10/site-packages (from matplotlib) (1.23.5)\n",
      "Requirement already satisfied: packaging>=20.0 in /opt/conda/lib/python3.10/site-packages (from matplotlib) (23.1)\n",
      "Requirement already satisfied: pillow>=6.2.0 in /opt/conda/lib/python3.10/site-packages (from matplotlib) (9.5.0)\n",
      "Requirement already satisfied: pyparsing<3.1,>=2.3.1 in /opt/conda/lib/python3.10/site-packages (from matplotlib) (3.0.9)\n",
      "Requirement already satisfied: python-dateutil>=2.7 in /opt/conda/lib/python3.10/site-packages (from matplotlib) (2.8.2)\n",
      "Requirement already satisfied: six>=1.5 in /opt/conda/lib/python3.10/site-packages (from python-dateutil>=2.7->matplotlib) (1.16.0)\n",
      "Installing collected packages: matplotlib\n",
      "  Attempting uninstall: matplotlib\n",
      "    Found existing installation: matplotlib 3.7.1\n",
      "    Uninstalling matplotlib-3.7.1:\n",
      "      Successfully uninstalled matplotlib-3.7.1\n",
      "Successfully installed matplotlib-3.7.2\n"
     ]
    }
   ],
   "source": [
    "! pip install --upgrade matplotlib"
   ]
  },
  {
   "cell_type": "code",
   "execution_count": 51,
   "metadata": {
    "colab": {
     "base_uri": "https://localhost:8080/",
     "height": 280
    },
    "id": "amfoahGEUmRw",
    "outputId": "29507a02-626d-4923-9523-fb92ed09b0a8",
    "tags": []
   },
   "outputs": [
    {
     "data": {
      "image/png": "[encoded data removed]",
      "text/plain": [
       "<Figure size 640x480 with 1 Axes>"
      ]
     },
     "metadata": {},
     "output_type": "display_data"
    }
   ],
   "source": [
    "import matplotlib.pyplot as plt\n",
    "import numpy as np\n",
    "\n",
    "# Fixing random state for reproducibility\n",
    "np.random.seed(19680801)\n",
    "\n",
    "\n",
    "x = np.arange(0.0, 50.0, 2.0)\n",
    "y = x ** 1.3 + np.random.rand(*x.shape) * 30.0\n",
    "s = np.random.rand(*x.shape) * 800 + 500\n",
    "\n",
    "plt.scatter(x, y, s, c=\"g\", alpha=0.5, marker=r'$\\clubsuit$',\n",
    "            label=\"Luck\")\n",
    "plt.xlabel(\"Leprechauns\")\n",
    "plt.ylabel(\"Gold\")\n",
    "plt.legend(loc='upper left')\n",
    "plt.show()"
   ]
  },
  {
   "cell_type": "code",
   "execution_count": null,
   "metadata": {},
   "outputs": [],
   "source": []
  },
  {
   "cell_type": "code",
   "execution_count": null,
   "metadata": {},
   "outputs": [],
   "source": []
  },
  {
   "cell_type": "code",
   "execution_count": null,
   "metadata": {},
   "outputs": [],
   "source": []
  },
  {
   "cell_type": "code",
   "execution_count": null,
   "metadata": {},
   "outputs": [],
   "source": []
  }
 ],
 "metadata": {
  "colab": {
   "name": "BIOE488_mp0.ipynb",
   "provenance": []
  },
  "kernelspec": {
   "display_name": "Python 3 (ipykernel)",
   "language": "python",
   "name": "python3"
  },
  "language_info": {
   "codemirror_mode": {
    "name": "ipython",
    "version": 3
   },
   "file_extension": ".py",
   "mimetype": "text/x-python",
   "name": "python",
   "nbconvert_exporter": "python",
   "pygments_lexer": "ipython3",
   "version": "3.10.11"
  },
  "vscode": {
   "interpreter": {
    "hash": "353902f3f2f769574ee6d5e609f500cb3c8385ac61494244183cc0b6ad3e28b3"
   }
  }
 },
 "nbformat": 4,
 "nbformat_minor": 4
}
